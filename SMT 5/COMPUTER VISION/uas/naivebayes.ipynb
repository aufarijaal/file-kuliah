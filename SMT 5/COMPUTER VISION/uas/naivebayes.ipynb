{
 "cells": [
  {
   "cell_type": "code",
   "execution_count": 1,
   "metadata": {},
   "outputs": [],
   "source": [
    "import os\n",
    "import numpy as np\n",
    "from skimage.filters import threshold_otsu\n",
    "import cv2\n",
    "\n",
    "letters = [\n",
    "           '0','1','2','3','4','5','6','7','8','9','A','B','C','D',\n",
    "           'E','F','G','H','J','K','L','M','N','P','Q','R','S','T',\n",
    "           'U','V','W','X','Y','Z'\n",
    "            ]\n",
    "training_directory = './train20X20'\n",
    "\n",
    "image_data = []\n",
    "target_data = []\n",
    "\n",
    "for each_letter in letters:\n",
    "    for each in range(10):\n",
    "        image_path = os.path.join(training_directory, each_letter, each_letter + '_' + str(each) + '.jpg')\n",
    "        img_details = cv2.imread(image_path)\n",
    "        gray_image = cv2.cvtColor(img_details, cv2.COLOR_BGR2GRAY)\n",
    "        threshold_value = threshold_otsu(gray_image)\n",
    "        binary_image = gray_image > threshold_value\n",
    "        binary_image = binary_image * 255\n",
    "        binary_image = binary_image.astype(np.uint8)\n",
    "        \n",
    "        #Reshape in to 1D array\n",
    "        flat_bin_image = binary_image.reshape(-1)\n",
    "        image_data.append(flat_bin_image)\n",
    "        target_data.append(each_letter)"
   ]
  },
  {
   "cell_type": "code",
   "execution_count": 2,
   "metadata": {},
   "outputs": [
    {
     "name": "stdout",
     "output_type": "stream",
     "text": [
      "Cross Validation Result for  4  -fold\n",
      "[91.76470588 89.41176471 90.58823529 95.29411765]\n"
     ]
    }
   ],
   "source": [
    "from sklearn.model_selection import cross_val_score\n",
    "from sklearn.naive_bayes import GaussianNB\n",
    "\n",
    "gnb_model = GaussianNB()\n",
    "\n",
    "num_of_fold = 4\n",
    "\n",
    "# this uses the concept of cross validation to measure the accuracy\n",
    "# of a model, the num_of_fold determines the type of validation\n",
    "# e.g if num_of_fold is 4, then we are performing a 4-fold cross validation\n",
    "# and the remaining 3/4 for the training\n",
    "\n",
    "accuracy_result = cross_val_score(gnb_model, image_data, target_data, cv=num_of_fold)\n",
    "print(\"Cross Validation Result for \", str(num_of_fold), \" -fold\")\n",
    "print (accuracy_result * 100)"
   ]
  },
  {
   "cell_type": "code",
   "execution_count": 3,
   "metadata": {},
   "outputs": [
    {
     "name": "stdout",
     "output_type": "stream",
     "text": [
      "model trained.saving model..\n",
      "model saved\n"
     ]
    }
   ],
   "source": [
    "import pickle\n",
    "\n",
    "#Generate GNB Model from image_data array and data label\n",
    "gnb_model.fit(image_data, target_data)\n",
    "\n",
    "#save gegnerated model into (.sav)\n",
    "print(\"model trained.saving model..\")\n",
    "filename = './gnb_finalized_model.sav'\n",
    "pickle.dump(gnb_model, open(filename, 'wb'), protocol=2)\n",
    "print(\"model saved\")"
   ]
  },
  {
   "cell_type": "code",
   "execution_count": 1,
   "metadata": {},
   "outputs": [
    {
     "name": "stdout",
     "output_type": "stream",
     "text": [
      "load data finish!\n"
     ]
    }
   ],
   "source": [
    "import cv2\n",
    "from skimage.filters import threshold_otsu\n",
    "from skimage.measure import regionprops\n",
    "from skimage.measure import label\n",
    "from skimage.morphology import closing, square\n",
    "from skimage.segmentation import clear_border\n",
    "import numpy as np\n",
    "import pickle\n",
    "\n",
    "img = cv2.imread ('joyofdata.png') #read image\n",
    "\n",
    "gray_image = cv2.cvtColor(img, cv2.COLOR_BGR2GRAY) #convert to grayscale level image\n",
    "\n",
    "threshold_value = threshold_otsu(gray_image) #search threshold value using otsu method\n",
    "binary_image = gray_image > threshold_value #generate new array (true: value > threshold)\n",
    "binary_image = binary_image * 255 # scale boolean value to 0 or 255\n",
    "binary_image = binary_image.astype(np.uint8) # convert array to uint8 (8bit value per pixel)\n",
    "binary_image = 255 - binary_image\n",
    "\n",
    "# invert color (black white)\n",
    "# binary_image = np.invert(binary_image)\n",
    "\n",
    "#close connected region if distance less than 3 pixel\n",
    "binary_image = closing(binary_image, square(3))\n",
    "\n",
    "#remove artifacts connected to image border\n",
    "binary_image = clear_border(binary_image)\n",
    "\n",
    "label_img = label(binary_image)\n",
    "regionprops_img = regionprops(label_img)\n",
    "\n",
    "for region in regionprops_img:\n",
    "    y0, x0, y1, x1 = region.bbox\n",
    "\n",
    "characters= []\n",
    "column_list = []\n",
    "last_y0 = 0\n",
    "\n",
    "regionprops_img = regionprops(label_img)\n",
    "\n",
    "for region in regionprops_img:\n",
    "    y0, x0, y1, x1 = region.bbox\n",
    "    \n",
    "    cv2.rectangle(img, (x0, y0), (x1, y1), (0,0, 255),1)\n",
    "    \n",
    "    roi = binary_image[y0:y1, x0:x1]\n",
    "    \n",
    "    resized_char = cv2.resize(roi, (20, 20))\n",
    "    \n",
    "    characters.append(resized_char)\n",
    "    column_list.append(x0)\n",
    "    \n",
    "print(\"load data finish!\")"
   ]
  },
  {
   "cell_type": "code",
   "execution_count": 2,
   "metadata": {},
   "outputs": [
    {
     "name": "stdout",
     "output_type": "stream",
     "text": [
      "Classification Result : \n",
      "[array(['L'], dtype='<U1'), array(['N'], dtype='<U1'), array(['1'], dtype='<U1'), array(['B'], dtype='<U1'), array(['K'], dtype='<U1'), array(['1'], dtype='<U1'), array(['D'], dtype='<U1'), array(['1'], dtype='<U1'), array(['X'], dtype='<U1'), array(['X'], dtype='<U1')]\n",
      "\n",
      "\n",
      "Predicted Character : \n",
      "LN1BK1D1XX\n"
     ]
    }
   ],
   "source": [
    "#load saved GNB Model\n",
    "filename = './gnb_finalized_model.sav'\n",
    "model = pickle.load(open(filename, 'rb'))\n",
    "\n",
    "classification_result = []\n",
    "\n",
    "for each_character in characters:\n",
    "    \n",
    "    #converts it to a 1D Array\n",
    "    each_character = each_character.reshape(1, -1);\n",
    "    result = model.predict(each_character)\n",
    "    classification_result.append(result)\n",
    "    \n",
    "print('Classification Result : ')\n",
    "print(classification_result)\n",
    "\n",
    "plate_string = ''\n",
    "for eachPredict in classification_result:\n",
    "    plate_string += eachPredict[0]\n",
    "    \n",
    "print(\"\\n\")\n",
    "print('Predicted Character : ')\n",
    "print(plate_string)\n",
    "\n",
    "cv2.imshow(\"Original Image\", img)\n",
    "cv2.imshow(\"Binary Image\", binary_image)\n",
    "\n",
    "cv2.waitKey(0)\n",
    "cv2.destroyAllWindows()\n",
    "\n",
    "print(\"Finish\")"
   ]
  }
 ],
 "metadata": {
  "interpreter": {
   "hash": "916dbcbb3f70747c44a77c7bcd40155683ae19c65e1c03b4aa3499c5328201f1"
  },
  "kernelspec": {
   "display_name": "Python 3.8.10 64-bit",
   "language": "python",
   "name": "python3"
  },
  "language_info": {
   "codemirror_mode": {
    "name": "ipython",
    "version": 3
   },
   "file_extension": ".py",
   "mimetype": "text/x-python",
   "name": "python",
   "nbconvert_exporter": "python",
   "pygments_lexer": "ipython3",
   "version": "3.8.10"
  },
  "orig_nbformat": 4
 },
 "nbformat": 4,
 "nbformat_minor": 2
}
